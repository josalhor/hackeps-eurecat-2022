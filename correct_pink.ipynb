{
 "cells": [
  {
   "cell_type": "code",
   "execution_count": 1,
   "metadata": {},
   "outputs": [],
   "source": [
    "from PIL import Image, ImageFilter\n",
    "import numpy as np\n"
   ]
  },
  {
   "cell_type": "code",
   "execution_count": 20,
   "metadata": {},
   "outputs": [],
   "source": [
    "def is_pixel_gray(r, g, b):\n",
    "    return r == g and g == b\n",
    "\n",
    "def preprocess_image(path):\n",
    "    image = Image.open(path)\n",
    "    width = image.width\n",
    "    height = image.height\n",
    "    # correct full masks\n",
    "    for j in range(width):\n",
    "        for i in range(height):\n",
    "            r, g, b = image.getpixel((j, i)) \n",
    "            bm = (r == g and g != b) # blue mask\n",
    "            rm = (g == b and g != r) # red mask\n",
    "            gm = (r == b and r != g) # green mask\n",
    "            if bm or rm or gm:\n",
    "                v = r\n",
    "                if rm: v = g\n",
    "                image.putpixel((j,i), (v, v, v))\n",
    "                \n",
    "    # for j in range(width):\n",
    "    #     for i in range(height):\n",
    "    #         r, g, b = image.getpixel((j, i)) \n",
    "    #         bm = b >= g and b >= r # blue mask\n",
    "    #         rm = r >= g and r >= b # red mask\n",
    "    #         gm = g >= r and g >= b # green mask\n",
    "    #         if bm or rm or gm:\n",
    "    #             if rm: v = (g + b) / 2\n",
    "    #             if gm: v = (r + b) / 2\n",
    "    #             if bm: v = (r + g) / 2\n",
    "    #             v = round(v)\n",
    "    #             image.putpixel((j,i), (v, v, v))\n",
    "                \n",
    "    # image.show()\n",
    "    ni = np.array(image)\n",
    "    r = ni[:,:,0]\n",
    "    g = ni[:,:,1]\n",
    "    b = ni[:,:,2]\n",
    "    mask = ((r != g) | (g != b)) * 255\n",
    "    mask = Image.fromarray(mask.astype(np.uint8))\n",
    "    filter = ImageFilter.GaussianBlur(radius=6)\n",
    "    gray = image.convert('L')\n",
    "    gray_blur = gray.filter(filter)\n",
    "    prevBlock = None\n",
    "    prevGray = None\n",
    "    average_gray = []\n",
    "\n",
    "    for j in range(width):\n",
    "        for i in range(height):\n",
    "            block = mask.getpixel((j, i)) == 255\n",
    "            current_gray = gray_blur.getpixel((j, i))\n",
    "            if not block and prevBlock is not None: # leave mask\n",
    "                midGrayAround = (current_gray + prevGray) / 2\n",
    "                midGrayIn = sum(average_gray) / len(average_gray)\n",
    "                delta = midGrayAround - midGrayIn\n",
    "                for sub_i in range(prevBlock, i):\n",
    "                    c = gray.getpixel((j, i))\n",
    "                    new_gray = round(c + delta)\n",
    "                    gray.putpixel((j, sub_i), new_gray)\n",
    "                prevBlock = None\n",
    "                prevGray = None\n",
    "                average_gray = []\n",
    "            elif block and prevBlock is None: # enter mask\n",
    "                prevBlock = i\n",
    "            \n",
    "            if block:\n",
    "                average_gray.append(current_gray)\n",
    "            \n",
    "            if not block:\n",
    "                prevGray = current_gray\n",
    "            \n",
    "    gray.show()\n",
    "    image.show()\n",
    "\n"
   ]
  },
  {
   "cell_type": "code",
   "execution_count": 21,
   "metadata": {},
   "outputs": [
    {
     "name": "stderr",
     "output_type": "stream",
     "text": [
      "kf.service.services: KApplicationTrader: mimeType \"x-scheme-handler/file\" not found\n",
      "kf.service.services: KApplicationTrader: mimeType \"x-scheme-handler/file\" not found\n",
      "org.kde.kdegraphics.gwenview.lib: Unresolved mime type  \"image/x-mng\"\n",
      "org.kde.kdegraphics.gwenview.lib: Unresolved raw mime type  \"image/x-nikon-nrw\"\n",
      "org.kde.kdegraphics.gwenview.lib: Unresolved raw mime type  \"image/x-samsung-srw\"\n"
     ]
    }
   ],
   "source": [
    "preprocess_image(\"A/A/A3/to/c1r1e0n2-0.png\")"
   ]
  }
 ],
 "metadata": {
  "kernelspec": {
   "display_name": "Python 3.10.6 ('venv': venv)",
   "language": "python",
   "name": "python3"
  },
  "language_info": {
   "codemirror_mode": {
    "name": "ipython",
    "version": 3
   },
   "file_extension": ".py",
   "mimetype": "text/x-python",
   "name": "python",
   "nbconvert_exporter": "python",
   "pygments_lexer": "ipython3",
   "version": "3.10.6"
  },
  "orig_nbformat": 4,
  "vscode": {
   "interpreter": {
    "hash": "6501112928e73c2f4fb35325b084cdb1fe41906255d57482fe9b4afacf6a4851"
   }
  }
 },
 "nbformat": 4,
 "nbformat_minor": 2
}
